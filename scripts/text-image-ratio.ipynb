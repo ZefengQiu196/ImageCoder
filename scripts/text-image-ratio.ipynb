{
 "cells": [
  {
   "cell_type": "code",
   "execution_count": 2,
   "id": "7ee7c28a",
   "metadata": {},
   "outputs": [
    {
     "name": "stdout",
     "output_type": "stream",
     "text": [
      "        id         Size text_image_ratio\n",
      "0        0  (1009, 762)            1.97%\n",
      "1        1  (1017, 708)            1.78%\n",
      "2        2  (1023, 764)            0.00%\n",
      "3        3   (859, 747)            0.00%\n",
      "4        4   (760, 763)            0.00%\n",
      "...    ...          ...              ...\n",
      "1795  1795   (858, 768)           18.28%\n",
      "1796  1796   (814, 768)           16.36%\n",
      "1797  1797  (1024, 702)           18.82%\n",
      "1798  1798  (1023, 357)           40.04%\n",
      "1799  1799  (1017, 681)           33.09%\n",
      "\n",
      "[1800 rows x 3 columns]\n"
     ]
    }
   ],
   "source": [
    "import pandas as pd\n",
    "import json\n",
    "import ast\n",
    "\n",
    "# Function to clean and parse the CSV data\n",
    "def clean_data(row):\n",
    "    # Convert the string representation of regions to actual list of dictionaries\n",
    "    if row['regions'] != '[]':\n",
    "        row['regions'] = json.loads(row['regions'].replace(\"'\", '\"'))\n",
    "    else:\n",
    "        row['regions'] = []\n",
    "    \n",
    "    # Convert the string representation of size to actual tuple\n",
    "    row['Size'] = ast.literal_eval(row['Size'])\n",
    "    \n",
    "    return row\n",
    "\n",
    "# Function to calculate the text-image ratio\n",
    "def calculate_text_image_ratio(row):\n",
    "    # Calculate the area of the image\n",
    "    image_area = row['Size'][0] * row['Size'][1]\n",
    "    \n",
    "    # Initialize total area of bounding boxes\n",
    "    total_bbox_area = 0\n",
    "    \n",
    "    # Iterate over each bounding box to calculate its area\n",
    "    for bbox in row['regions']:\n",
    "        bbox_width = bbox['R'] - bbox['L']\n",
    "        bbox_height = bbox['B'] - bbox['T']\n",
    "        bbox_area = bbox_width * bbox_height\n",
    "        total_bbox_area += bbox_area\n",
    "    \n",
    "    # Calculate the ratio of text area to image area\n",
    "    ratio = (total_bbox_area / image_area) * 100\n",
    "    \n",
    "    # Format the ratio to two decimal places\n",
    "    formatted_ratio = \"{:.2f}%\".format(ratio)\n",
    "    \n",
    "    return formatted_ratio\n",
    "\n",
    "# Load the CSV file\n",
    "file_path = 'test2.csv'\n",
    "data = pd.read_csv(file_path)\n",
    "\n",
    "# Apply the cleaning function to each row\n",
    "data_cleaned = data.apply(clean_data, axis=1)\n",
    "\n",
    "# Apply the function to calculate text-image ratio\n",
    "data_cleaned['text_image_ratio'] = data_cleaned.apply(calculate_text_image_ratio, axis=1)\n",
    "\n",
    "# Print the updated dataframe with text-image ratios\n",
    "print(data_cleaned[['id', 'Size', 'text_image_ratio']])\n",
    "\n",
    "\n",
    "data_cleaned.to_csv('output.csv', index=False)\n"
   ]
  }
 ],
 "metadata": {
  "kernelspec": {
   "display_name": "Python 3 (ipykernel)",
   "language": "python",
   "name": "python3"
  },
  "language_info": {
   "codemirror_mode": {
    "name": "ipython",
    "version": 3
   },
   "file_extension": ".py",
   "mimetype": "text/x-python",
   "name": "python",
   "nbconvert_exporter": "python",
   "pygments_lexer": "ipython3",
   "version": "3.9.13"
  }
 },
 "nbformat": 4,
 "nbformat_minor": 5
}
